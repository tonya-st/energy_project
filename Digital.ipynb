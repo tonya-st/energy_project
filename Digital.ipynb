{
  "nbformat": 4,
  "nbformat_minor": 0,
  "metadata": {
    "colab": {
      "name": "Digital.ipynb",
      "provenance": [],
      "collapsed_sections": [],
      "include_colab_link": true
    },
    "kernelspec": {
      "name": "python3",
      "display_name": "Python 3"
    }
  },
  "cells": [
    {
      "cell_type": "markdown",
      "metadata": {
        "id": "view-in-github",
        "colab_type": "text"
      },
      "source": [
        "<a href=\"https://colab.research.google.com/github/tonya-st/energy_project/blob/master/Digital.ipynb\" target=\"_parent\"><img src=\"https://colab.research.google.com/assets/colab-badge.svg\" alt=\"Open In Colab\"/></a>"
      ]
    },
    {
      "cell_type": "code",
      "metadata": {
        "id": "WBAEUSjQ5F9V"
      },
      "source": [
        "import numpy as np\n",
        "import pandas as pd\n",
        "import scipy.linalg as sla\n",
        "import matplotlib.pyplot as plt\n",
        "import math\n",
        "\n",
        "from sklearn import datasets\n",
        "from sklearn.linear_model import LinearRegression, Lasso, Ridge"
      ],
      "execution_count": 66,
      "outputs": []
    },
    {
      "cell_type": "code",
      "metadata": {
        "id": "bG8LSxBq5LJA",
        "colab": {
          "base_uri": "https://localhost:8080/",
          "height": 419
        },
        "outputId": "53cf61fc-0d4b-4aa8-a9fe-c370b2e5510a"
      },
      "source": [
        "col_names = ['Energy', 'People','Life','Economy','Manufactur']\n",
        "data = pd.read_excel('correl.xlsx', keep_default_na=False)\n",
        "df = pd.DataFrame(data)\n",
        "df"
      ],
      "execution_count": 67,
      "outputs": [
        {
          "output_type": "execute_result",
          "data": {
            "text/html": [
              "<div>\n",
              "<style scoped>\n",
              "    .dataframe tbody tr th:only-of-type {\n",
              "        vertical-align: middle;\n",
              "    }\n",
              "\n",
              "    .dataframe tbody tr th {\n",
              "        vertical-align: top;\n",
              "    }\n",
              "\n",
              "    .dataframe thead th {\n",
              "        text-align: right;\n",
              "    }\n",
              "</style>\n",
              "<table border=\"1\" class=\"dataframe\">\n",
              "  <thead>\n",
              "    <tr style=\"text-align: right;\">\n",
              "      <th></th>\n",
              "      <th>Energy</th>\n",
              "      <th>People</th>\n",
              "      <th>Life</th>\n",
              "      <th>Economy</th>\n",
              "      <th>Manufactur</th>\n",
              "      <th>Capacity</th>\n",
              "    </tr>\n",
              "  </thead>\n",
              "  <tbody>\n",
              "    <tr>\n",
              "      <th>0</th>\n",
              "      <td>1385.8</td>\n",
              "      <td>439.8</td>\n",
              "      <td>147348</td>\n",
              "      <td>47194.5</td>\n",
              "      <td>7140</td>\n",
              "      <td>115.2</td>\n",
              "    </tr>\n",
              "    <tr>\n",
              "      <th>1</th>\n",
              "      <td>1405.2</td>\n",
              "      <td>441.2</td>\n",
              "      <td>171264</td>\n",
              "      <td>56803.3</td>\n",
              "      <td>6969</td>\n",
              "      <td>107.2</td>\n",
              "    </tr>\n",
              "    <tr>\n",
              "      <th>2</th>\n",
              "      <td>1253.7</td>\n",
              "      <td>443.5</td>\n",
              "      <td>204852</td>\n",
              "      <td>65300.4</td>\n",
              "      <td>7141</td>\n",
              "      <td>108.7</td>\n",
              "    </tr>\n",
              "    <tr>\n",
              "      <th>3</th>\n",
              "      <td>1300.5</td>\n",
              "      <td>445.4</td>\n",
              "      <td>224832</td>\n",
              "      <td>70862.3</td>\n",
              "      <td>7349</td>\n",
              "      <td>102.7</td>\n",
              "    </tr>\n",
              "    <tr>\n",
              "      <th>4</th>\n",
              "      <td>1343.6</td>\n",
              "      <td>447.8</td>\n",
              "      <td>264936</td>\n",
              "      <td>75622.5</td>\n",
              "      <td>7535</td>\n",
              "      <td>118.5</td>\n",
              "    </tr>\n",
              "    <tr>\n",
              "      <th>...</th>\n",
              "      <td>...</td>\n",
              "      <td>...</td>\n",
              "      <td>...</td>\n",
              "      <td>...</td>\n",
              "      <td>...</td>\n",
              "      <td>...</td>\n",
              "    </tr>\n",
              "    <tr>\n",
              "      <th>120</th>\n",
              "      <td>15579.9</td>\n",
              "      <td>2514.4</td>\n",
              "      <td>273756</td>\n",
              "      <td>852028.6</td>\n",
              "      <td>43364</td>\n",
              "      <td>100.9</td>\n",
              "    </tr>\n",
              "    <tr>\n",
              "      <th>121</th>\n",
              "      <td>1254.0</td>\n",
              "      <td>407.6</td>\n",
              "      <td>213288</td>\n",
              "      <td>48663.3</td>\n",
              "      <td>9430</td>\n",
              "      <td>372.9</td>\n",
              "    </tr>\n",
              "    <tr>\n",
              "      <th>122</th>\n",
              "      <td>1319.2</td>\n",
              "      <td>422.5</td>\n",
              "      <td>314868</td>\n",
              "      <td>65863.7</td>\n",
              "      <td>10549</td>\n",
              "      <td>119.4</td>\n",
              "    </tr>\n",
              "    <tr>\n",
              "      <th>123</th>\n",
              "      <td>1358.1</td>\n",
              "      <td>432.7</td>\n",
              "      <td>337560</td>\n",
              "      <td>72789.6</td>\n",
              "      <td>11214</td>\n",
              "      <td>103.2</td>\n",
              "    </tr>\n",
              "    <tr>\n",
              "      <th>124</th>\n",
              "      <td>2100.7</td>\n",
              "      <td>439.9</td>\n",
              "      <td>346008</td>\n",
              "      <td>79254.6</td>\n",
              "      <td>11422</td>\n",
              "      <td>116.2</td>\n",
              "    </tr>\n",
              "  </tbody>\n",
              "</table>\n",
              "<p>125 rows × 6 columns</p>\n",
              "</div>"
            ],
            "text/plain": [
              "      Energy  People    Life   Economy  Manufactur  Capacity\n",
              "0     1385.8   439.8  147348   47194.5        7140     115.2\n",
              "1     1405.2   441.2  171264   56803.3        6969     107.2\n",
              "2     1253.7   443.5  204852   65300.4        7141     108.7\n",
              "3     1300.5   445.4  224832   70862.3        7349     102.7\n",
              "4     1343.6   447.8  264936   75622.5        7535     118.5\n",
              "..       ...     ...     ...       ...         ...       ...\n",
              "120  15579.9  2514.4  273756  852028.6       43364     100.9\n",
              "121   1254.0   407.6  213288   48663.3        9430     372.9\n",
              "122   1319.2   422.5  314868   65863.7       10549     119.4\n",
              "123   1358.1   432.7  337560   72789.6       11214     103.2\n",
              "124   2100.7   439.9  346008   79254.6       11422     116.2\n",
              "\n",
              "[125 rows x 6 columns]"
            ]
          },
          "metadata": {
            "tags": []
          },
          "execution_count": 67
        }
      ]
    },
    {
      "cell_type": "code",
      "metadata": {
        "id": "r3vvyhrK5Ou8"
      },
      "source": [
        "y=df[\"Energy\"]\n",
        "x1=df[\"People\"]\n",
        "x2=df[\"Life\"]\n",
        "x3=df[\"Economy\"]\n",
        "x4=df[\"Manufactur\"]"
      ],
      "execution_count": 68,
      "outputs": []
    },
    {
      "cell_type": "code",
      "metadata": {
        "colab": {
          "base_uri": "https://localhost:8080/"
        },
        "id": "zBoNFeFR5SDR",
        "outputId": "4fa11dea-e782-4c24-a3cf-9534cce9f977"
      },
      "source": [
        "x1_, y_ = np.array(x1), np.array(y)\n",
        "x1__, y__ = pd.Series(x1_), pd.Series(y_)\n",
        "r1 = x1__.corr(y__)\n",
        "print(\"Корреляция население\",r1)"
      ],
      "execution_count": 69,
      "outputs": [
        {
          "output_type": "stream",
          "text": [
            "Корреляция население 0.9263629307255573\n"
          ],
          "name": "stdout"
        }
      ]
    },
    {
      "cell_type": "code",
      "metadata": {
        "colab": {
          "base_uri": "https://localhost:8080/",
          "height": 246
        },
        "id": "jmt6BjpT5VO1",
        "outputId": "52b5855a-657a-4545-9d23-ade0f1904f1c"
      },
      "source": [
        "import seaborn as sns\n",
        "#Визуализируем матрицу корреляций и ввиде тепловой карты\n",
        "cols = ['Energy', 'People','Life','Economy','Manufactur']\n",
        "plt.figure(figsize=(7,5), dpi= 50)\n",
        "hm = sns.heatmap(df[cols].corr(), cbar=True, annot=True)\n",
        "plt.yticks(rotation=360)"
      ],
      "execution_count": 70,
      "outputs": [
        {
          "output_type": "execute_result",
          "data": {
            "text/plain": [
              "(array([0.5, 1.5, 2.5, 3.5, 4.5]), <a list of 5 Text major ticklabel objects>)"
            ]
          },
          "metadata": {
            "tags": []
          },
          "execution_count": 70
        },
        {
          "output_type": "display_data",
          "data": {
            "image/png": "[encoded data removed]",
            "text/plain": [
              "<Figure size 350x250 with 2 Axes>"
            ]
          },
          "metadata": {
            "tags": [],
            "needs_background": "light"
          }
        }
      ]
    },
    {
      "cell_type": "code",
      "metadata": {
        "id": "LH8M6LIi5X-_",
        "colab": {
          "base_uri": "https://localhost:8080/"
        },
        "outputId": "86973512-1f24-4ec7-916c-1ec0b6369573"
      },
      "source": [
        "#Построение регриссионной модели\n",
        "import sklearn\n",
        "from sklearn.linear_model import LinearRegression\n",
        "#X = df[['People','Life', 'Economy','Manufactur','Capacity']].values\n",
        "X = df[['Manufactur']].values\n",
        "print(X)\n",
        "#X=sklearn.preprocessing.scale(X)\n",
        "y = df['Energy'].values\n",
        "print(y)"
      ],
      "execution_count": 71,
      "outputs": [
        {
          "output_type": "stream",
          "text": [
            "[[  7140]\n",
            " [  6969]\n",
            " [  7141]\n",
            " [  7349]\n",
            " [  7535]\n",
            " [  7688]\n",
            " [  7402]\n",
            " [  7263]\n",
            " [  6891]\n",
            " [ 28632]\n",
            " [ 31880]\n",
            " [ 33077]\n",
            " [ 33202]\n",
            " [ 28034]\n",
            " [ 29837]\n",
            " [ 32048]\n",
            " [ 33558]\n",
            " [ 34115]\n",
            " [ 34012]\n",
            " [ 35262]\n",
            " [ 33312]\n",
            " [ 31420]\n",
            " [  4004]\n",
            " [  4106]\n",
            " [  4206]\n",
            " [  4707]\n",
            " [  5526]\n",
            " [  5576]\n",
            " [  5240]\n",
            " [  5066]\n",
            " [  5276]\n",
            " [ 12149]\n",
            " [ 12295]\n",
            " [ 12616]\n",
            " [ 12677]\n",
            " [ 12392]\n",
            " [ 12593]\n",
            " [ 12740]\n",
            " [ 12681]\n",
            " [ 11848]\n",
            " [  8223]\n",
            " [  8003]\n",
            " [  7153]\n",
            " [  5823]\n",
            " [  5503]\n",
            " [  5433]\n",
            " [  4739]\n",
            " [  4252]\n",
            " [  4072]\n",
            " [  6716]\n",
            " [  6632]\n",
            " [  6709]\n",
            " [  6946]\n",
            " [  6961]\n",
            " [  7088]\n",
            " [  6895]\n",
            " [  6750]\n",
            " [  6676]\n",
            " [ 11401]\n",
            " [ 11541]\n",
            " [ 11481]\n",
            " [ 11638]\n",
            " [ 11696]\n",
            " [ 11112]\n",
            " [ 10476]\n",
            " [  9580]\n",
            " [  9393]\n",
            " [ 10108]\n",
            " [ 10430]\n",
            " [ 10289]\n",
            " [  9836]\n",
            " [  9656]\n",
            " [  9876]\n",
            " [ 10441]\n",
            " [ 10118]\n",
            " [ 10000]\n",
            " [130889]\n",
            " [132681]\n",
            " [135717]\n",
            " [134477]\n",
            " [141784]\n",
            " [146267]\n",
            " [144864]\n",
            " [141322]\n",
            " [135825]\n",
            " [ 57275]\n",
            " [ 56566]\n",
            " [ 56790]\n",
            " [ 57598]\n",
            " [ 56781]\n",
            " [ 57912]\n",
            " [ 50930]\n",
            " [ 48295]\n",
            " [ 44438]\n",
            " [ 18204]\n",
            " [ 17880]\n",
            " [ 17952]\n",
            " [ 18515]\n",
            " [ 18736]\n",
            " [ 18904]\n",
            " [ 18063]\n",
            " [ 17139]\n",
            " [ 15946]\n",
            " [ 90703]\n",
            " [ 91802]\n",
            " [ 87457]\n",
            " [ 88144]\n",
            " [ 89473]\n",
            " [ 91701]\n",
            " [ 90596]\n",
            " [ 87817]\n",
            " [ 86543]\n",
            " [ 56467]\n",
            " [ 52909]\n",
            " [ 53221]\n",
            " [ 54734]\n",
            " [ 55452]\n",
            " [ 55720]\n",
            " [ 51219]\n",
            " [ 46631]\n",
            " [ 43364]\n",
            " [  9430]\n",
            " [ 10549]\n",
            " [ 11214]\n",
            " [ 11422]]\n",
            "[ 1385.8  1405.2  1253.7  1300.5  1343.6  1396.7  1451.4  1434.6  1446.1\n",
            "  5514.2  5678.3  5861.1  6106.8  5150.2  3994.8  3613.2  4976.2  5228.5\n",
            "  6059.4  6335.   6393.2  6377.6   553.    614.2   686.1   625.7   655.4\n",
            "   609.3   715.4   734.1   765.4  1429.5  1482.9  1510.4  1479.2  1499.6\n",
            "  1573.   1609.   1624.9  1614.1   498.4   473.1   472.7   472.9   497.4\n",
            "   491.    489.9   504.4   537.4  1430.5  1557.3  1365.4  1361.3  1314.\n",
            "  1348.5  1359.7  1348.6  1398.5  2099.6  2188.9  2183.8  2283.7  2039.6\n",
            "  2113.3  1783.7  1458.5  1466.4  2231.2  2327.9  2338.2  2375.1  2536.1\n",
            "  2594.5  2636.9  2684.3  2755.1 19917.7 20861.6 21333.6 21762.6 21613.4\n",
            " 22484.3 23539.6 23233.  23907.9  9919.5 10480.4 10401.  10154.9  9712.6\n",
            "  9956.4 10264.2 10429.8 10594.3  4018.   4146.8  4332.1  4055.9  4463.2\n",
            "  4494.1  4442.1  4316.8  4287.6 16708.1 17320.5 17582.  17337.3 17942.4\n",
            " 18149.7 18717.5 18762.9 19615.8 18427.6 18882.1 18766.8 17528.5 17235.8\n",
            " 14164.5 13772.9 13269.6 15579.9  1254.   1319.2  1358.1  2100.7]\n"
          ],
          "name": "stdout"
        }
      ]
    },
    {
      "cell_type": "code",
      "metadata": {
        "id": "R2D28rdX5bWk"
      },
      "source": [
        "slr = LinearRegression()"
      ],
      "execution_count": 72,
      "outputs": []
    },
    {
      "cell_type": "code",
      "metadata": {
        "id": "KhbDKgJg5b8h"
      },
      "source": [
        "from sklearn.model_selection import train_test_split"
      ],
      "execution_count": 73,
      "outputs": []
    },
    {
      "cell_type": "code",
      "metadata": {
        "colab": {
          "base_uri": "https://localhost:8080/"
        },
        "id": "yuFmOFjS5fFJ",
        "outputId": "da6c4b97-aa80-4097-c69e-117b1a69df94"
      },
      "source": [
        "import sklearn.model_selection\n",
        "kfld=sklearn.model_selection.KFold(n_splits=5,shuffle=True, random_state=42) #разбиение\n",
        "r2=sklearn.model_selection.cross_val_score(slr,X,y,cv=kfld,scoring='r2')\n",
        "print(r2)\n",
        "np.mean(r2)"
      ],
      "execution_count": 74,
      "outputs": [
        {
          "output_type": "stream",
          "text": [
            "[0.85766257 0.8803887  0.87398165 0.9311962  0.90819415]\n"
          ],
          "name": "stdout"
        },
        {
          "output_type": "execute_result",
          "data": {
            "text/plain": [
              "0.8902846529354356"
            ]
          },
          "metadata": {
            "tags": []
          },
          "execution_count": 74
        }
      ]
    },
    {
      "cell_type": "code",
      "metadata": {
        "id": "4nwFSK2IFsOE",
        "colab": {
          "base_uri": "https://localhost:8080/",
          "height": 823
        },
        "outputId": "b4aa4899-5ea3-4dba-a5bf-ae587ab51837"
      },
      "source": [
        "data_pr = pd.read_excel('Cap.xlsx', keep_default_na=False)\n",
        "df_pr = pd.DataFrame(data_pr)\n",
        "df_pr"
      ],
      "execution_count": 75,
      "outputs": [
        {
          "output_type": "execute_result",
          "data": {
            "text/html": [
              "<div>\n",
              "<style scoped>\n",
              "    .dataframe tbody tr th:only-of-type {\n",
              "        vertical-align: middle;\n",
              "    }\n",
              "\n",
              "    .dataframe tbody tr th {\n",
              "        vertical-align: top;\n",
              "    }\n",
              "\n",
              "    .dataframe thead th {\n",
              "        text-align: right;\n",
              "    }\n",
              "</style>\n",
              "<table border=\"1\" class=\"dataframe\">\n",
              "  <thead>\n",
              "    <tr style=\"text-align: right;\">\n",
              "      <th></th>\n",
              "      <th>Unnamed: 0</th>\n",
              "      <th>2010</th>\n",
              "      <th>2011</th>\n",
              "      <th>2012</th>\n",
              "      <th>2013</th>\n",
              "      <th>2014</th>\n",
              "      <th>2015</th>\n",
              "      <th>2016</th>\n",
              "      <th>2017</th>\n",
              "      <th>2018</th>\n",
              "      <th>Cap2019</th>\n",
              "      <th>Cap2020</th>\n",
              "      <th>Cap2021</th>\n",
              "    </tr>\n",
              "  </thead>\n",
              "  <tbody>\n",
              "    <tr>\n",
              "      <th>0</th>\n",
              "      <td>Республика Адыгея</td>\n",
              "      <td>7140</td>\n",
              "      <td>6969</td>\n",
              "      <td>7141</td>\n",
              "      <td>7349</td>\n",
              "      <td>7535</td>\n",
              "      <td>7688</td>\n",
              "      <td>7402</td>\n",
              "      <td>7263</td>\n",
              "      <td>6891</td>\n",
              "      <td>7326.472222</td>\n",
              "      <td>7338.922222</td>\n",
              "      <td>7351.372222</td>\n",
              "    </tr>\n",
              "    <tr>\n",
              "      <th>1</th>\n",
              "      <td>Республика Калмыкия</td>\n",
              "      <td>8223</td>\n",
              "      <td>8003</td>\n",
              "      <td>7153</td>\n",
              "      <td>5823</td>\n",
              "      <td>5503</td>\n",
              "      <td>5433</td>\n",
              "      <td>4739</td>\n",
              "      <td>4252</td>\n",
              "      <td>4072</td>\n",
              "      <td>3154.972222</td>\n",
              "      <td>2603.722222</td>\n",
              "      <td>2052.472222</td>\n",
              "    </tr>\n",
              "    <tr>\n",
              "      <th>2</th>\n",
              "      <td>Республика Крым</td>\n",
              "      <td></td>\n",
              "      <td></td>\n",
              "      <td></td>\n",
              "      <td></td>\n",
              "      <td>13990</td>\n",
              "      <td>28632</td>\n",
              "      <td>31880</td>\n",
              "      <td>33077</td>\n",
              "      <td>33202</td>\n",
              "      <td>41016.900000</td>\n",
              "      <td>45303.800000</td>\n",
              "      <td>49590.700000</td>\n",
              "    </tr>\n",
              "    <tr>\n",
              "      <th>3</th>\n",
              "      <td>Краснодарский край</td>\n",
              "      <td>130889</td>\n",
              "      <td>132681</td>\n",
              "      <td>135717</td>\n",
              "      <td>134477</td>\n",
              "      <td>141784</td>\n",
              "      <td>146267</td>\n",
              "      <td>144864</td>\n",
              "      <td>141322</td>\n",
              "      <td>135825</td>\n",
              "      <td>144515.472222</td>\n",
              "      <td>145777.988889</td>\n",
              "      <td>147040.505556</td>\n",
              "    </tr>\n",
              "    <tr>\n",
              "      <th>4</th>\n",
              "      <td>Астраханская область</td>\n",
              "      <td>18204</td>\n",
              "      <td>17880</td>\n",
              "      <td>17952</td>\n",
              "      <td>18515</td>\n",
              "      <td>18736</td>\n",
              "      <td>18904</td>\n",
              "      <td>18063</td>\n",
              "      <td>17139</td>\n",
              "      <td>15946</td>\n",
              "      <td>17039.555556</td>\n",
              "      <td>16862.155556</td>\n",
              "      <td>16684.755556</td>\n",
              "    </tr>\n",
              "    <tr>\n",
              "      <th>5</th>\n",
              "      <td>Волгоградская область</td>\n",
              "      <td>56467</td>\n",
              "      <td>52909</td>\n",
              "      <td>53221</td>\n",
              "      <td>54734</td>\n",
              "      <td>55452</td>\n",
              "      <td>55720</td>\n",
              "      <td>51219</td>\n",
              "      <td>46631</td>\n",
              "      <td>43364</td>\n",
              "      <td>46002.111111</td>\n",
              "      <td>44764.377778</td>\n",
              "      <td>43526.644444</td>\n",
              "    </tr>\n",
              "    <tr>\n",
              "      <th>6</th>\n",
              "      <td>Ростовская область</td>\n",
              "      <td>90703</td>\n",
              "      <td>91802</td>\n",
              "      <td>87457</td>\n",
              "      <td>88144</td>\n",
              "      <td>89473</td>\n",
              "      <td>91701</td>\n",
              "      <td>90596</td>\n",
              "      <td>87817</td>\n",
              "      <td>86543</td>\n",
              "      <td>87796.222222</td>\n",
              "      <td>87483.555556</td>\n",
              "      <td>87170.888889</td>\n",
              "    </tr>\n",
              "    <tr>\n",
              "      <th>7</th>\n",
              "      <td>г. Севастополь</td>\n",
              "      <td></td>\n",
              "      <td></td>\n",
              "      <td></td>\n",
              "      <td></td>\n",
              "      <td>5690</td>\n",
              "      <td>9430</td>\n",
              "      <td>10549</td>\n",
              "      <td>11214</td>\n",
              "      <td>11422</td>\n",
              "      <td>13635.400000</td>\n",
              "      <td>14960.200000</td>\n",
              "      <td>16285.000000</td>\n",
              "    </tr>\n",
              "    <tr>\n",
              "      <th>8</th>\n",
              "      <td>Республика Дагестан</td>\n",
              "      <td>28034</td>\n",
              "      <td>29837</td>\n",
              "      <td>32048</td>\n",
              "      <td>33558</td>\n",
              "      <td>34115</td>\n",
              "      <td>34012</td>\n",
              "      <td>35262</td>\n",
              "      <td>33312</td>\n",
              "      <td>31420</td>\n",
              "      <td>34970.694444</td>\n",
              "      <td>35484.877778</td>\n",
              "      <td>35999.061111</td>\n",
              "    </tr>\n",
              "    <tr>\n",
              "      <th>9</th>\n",
              "      <td>Республика Ингушетия</td>\n",
              "      <td>4004</td>\n",
              "      <td>4106</td>\n",
              "      <td>4206</td>\n",
              "      <td>4707</td>\n",
              "      <td>5526</td>\n",
              "      <td>5576</td>\n",
              "      <td>5240</td>\n",
              "      <td>5066</td>\n",
              "      <td>5276</td>\n",
              "      <td>5765.083333</td>\n",
              "      <td>5946.833333</td>\n",
              "      <td>6128.583333</td>\n",
              "    </tr>\n",
              "    <tr>\n",
              "      <th>10</th>\n",
              "      <td>Кабардино-Балкарская Республика</td>\n",
              "      <td>12149</td>\n",
              "      <td>12295</td>\n",
              "      <td>12616</td>\n",
              "      <td>12677</td>\n",
              "      <td>12392</td>\n",
              "      <td>12593</td>\n",
              "      <td>12740</td>\n",
              "      <td>12681</td>\n",
              "      <td>11848</td>\n",
              "      <td>12453.277778</td>\n",
              "      <td>12455.244444</td>\n",
              "      <td>12457.211111</td>\n",
              "    </tr>\n",
              "    <tr>\n",
              "      <th>11</th>\n",
              "      <td>Карачаево-Черкесская Республика</td>\n",
              "      <td>6716</td>\n",
              "      <td>6632</td>\n",
              "      <td>6709</td>\n",
              "      <td>6946</td>\n",
              "      <td>6961</td>\n",
              "      <td>7088</td>\n",
              "      <td>6895</td>\n",
              "      <td>6750</td>\n",
              "      <td>6676</td>\n",
              "      <td>6878.222222</td>\n",
              "      <td>6890.022222</td>\n",
              "      <td>6901.822222</td>\n",
              "    </tr>\n",
              "    <tr>\n",
              "      <th>12</th>\n",
              "      <td>Республика Северная Осетия –Алания</td>\n",
              "      <td>11401</td>\n",
              "      <td>11541</td>\n",
              "      <td>11481</td>\n",
              "      <td>11638</td>\n",
              "      <td>11696</td>\n",
              "      <td>11112</td>\n",
              "      <td>10476</td>\n",
              "      <td>9580</td>\n",
              "      <td>9393</td>\n",
              "      <td>9553.305556</td>\n",
              "      <td>9279.122222</td>\n",
              "      <td>9004.938889</td>\n",
              "    </tr>\n",
              "    <tr>\n",
              "      <th>13</th>\n",
              "      <td>Чеченская Республика</td>\n",
              "      <td>10108</td>\n",
              "      <td>10430</td>\n",
              "      <td>10289</td>\n",
              "      <td>9836</td>\n",
              "      <td>9656</td>\n",
              "      <td>9876</td>\n",
              "      <td>10441</td>\n",
              "      <td>10118</td>\n",
              "      <td>10000</td>\n",
              "      <td>9998.444444</td>\n",
              "      <td>9981.377778</td>\n",
              "      <td>9964.311111</td>\n",
              "    </tr>\n",
              "    <tr>\n",
              "      <th>14</th>\n",
              "      <td>Ставропольский край</td>\n",
              "      <td>57275</td>\n",
              "      <td>56566</td>\n",
              "      <td>56790</td>\n",
              "      <td>57598</td>\n",
              "      <td>56781</td>\n",
              "      <td>57912</td>\n",
              "      <td>50930</td>\n",
              "      <td>48295</td>\n",
              "      <td>44438</td>\n",
              "      <td>46767.750000</td>\n",
              "      <td>45308.300000</td>\n",
              "      <td>43848.850000</td>\n",
              "    </tr>\n",
              "  </tbody>\n",
              "</table>\n",
              "</div>"
            ],
            "text/plain": [
              "                            Unnamed: 0    2010  ...        Cap2020        Cap2021\n",
              "0                    Республика Адыгея    7140  ...    7338.922222    7351.372222\n",
              "1                  Республика Калмыкия    8223  ...    2603.722222    2052.472222\n",
              "2                      Республика Крым          ...   45303.800000   49590.700000\n",
              "3                   Краснодарский край  130889  ...  145777.988889  147040.505556\n",
              "4                 Астраханская область   18204  ...   16862.155556   16684.755556\n",
              "5                Волгоградская область   56467  ...   44764.377778   43526.644444\n",
              "6                   Ростовская область   90703  ...   87483.555556   87170.888889\n",
              "7                       г. Севастополь          ...   14960.200000   16285.000000\n",
              "8                  Республика Дагестан   28034  ...   35484.877778   35999.061111\n",
              "9                 Республика Ингушетия    4004  ...    5946.833333    6128.583333\n",
              "10     Кабардино-Балкарская Республика   12149  ...   12455.244444   12457.211111\n",
              "11     Карачаево-Черкесская Республика    6716  ...    6890.022222    6901.822222\n",
              "12  Республика Северная Осетия –Алания   11401  ...    9279.122222    9004.938889\n",
              "13                Чеченская Республика   10108  ...    9981.377778    9964.311111\n",
              "14                 Ставропольский край   57275  ...   45308.300000   43848.850000\n",
              "\n",
              "[15 rows x 13 columns]"
            ]
          },
          "metadata": {
            "tags": []
          },
          "execution_count": 75
        }
      ]
    },
    {
      "cell_type": "code",
      "metadata": {
        "colab": {
          "base_uri": "https://localhost:8080/"
        },
        "id": "CGKSd1Cotokf",
        "outputId": "b0c704dc-7d5d-44fd-8635-9963bc6810cf"
      },
      "source": [
        "#прогноз потребления на 2020\n",
        "X1= df_pr[['Cap2020']].values\n",
        "print(X1)\n",
        "slr.fit(X, y)\n",
        "y_pred = slr.predict(X1)\n",
        "print(y_pred)"
      ],
      "execution_count": 76,
      "outputs": [
        {
          "output_type": "stream",
          "text": [
            "[[  7338.92222222]\n",
            " [  2603.72222222]\n",
            " [ 45303.8       ]\n",
            " [145777.98888889]\n",
            " [ 16862.15555556]\n",
            " [ 44764.37777778]\n",
            " [ 87483.55555556]\n",
            " [ 14960.2       ]\n",
            " [ 35484.87777778]\n",
            " [  5946.83333333]\n",
            " [ 12455.24444444]\n",
            " [  6890.02222222]\n",
            " [  9279.12222222]\n",
            " [  9981.37777778]\n",
            " [ 45308.3       ]]\n",
            "[ 1846.7642337   1005.48647834  8591.78179574 26442.49562006\n",
            "  3538.70636128  8495.9455235  16085.63423614  3200.79605114\n",
            "  6847.30619867  1599.43921771  2755.75394372  1767.01056239\n",
            "  2191.46923053  2316.23523354  8592.58128676]\n"
          ],
          "name": "stdout"
        }
      ]
    },
    {
      "cell_type": "code",
      "metadata": {
        "colab": {
          "base_uri": "https://localhost:8080/",
          "height": 593
        },
        "id": "a_I5iRZFttTZ",
        "outputId": "bf3a1f2e-0305-47ec-9212-61343d957494"
      },
      "source": [
        "plt.scatter(X, y)\n",
        "plt.plot(X1, slr.predict(X1), color='red', linewidth=2);"
      ],
      "execution_count": 259,
      "outputs": [
        {
          "output_type": "error",
          "ename": "ValueError",
          "evalue": "ignored",
          "traceback": [
            "\u001b[0;31m---------------------------------------------------------------------------\u001b[0m",
            "\u001b[0;31mValueError\u001b[0m                                Traceback (most recent call last)",
            "\u001b[0;32m<ipython-input-259-cfd6bc905b83>\u001b[0m in \u001b[0;36m<module>\u001b[0;34m()\u001b[0m\n\u001b[0;32m----> 1\u001b[0;31m \u001b[0mplt\u001b[0m\u001b[0;34m.\u001b[0m\u001b[0mscatter\u001b[0m\u001b[0;34m(\u001b[0m\u001b[0mX\u001b[0m\u001b[0;34m,\u001b[0m \u001b[0my\u001b[0m\u001b[0;34m)\u001b[0m\u001b[0;34m\u001b[0m\u001b[0;34m\u001b[0m\u001b[0m\n\u001b[0m\u001b[1;32m      2\u001b[0m \u001b[0mplt\u001b[0m\u001b[0;34m.\u001b[0m\u001b[0mplot\u001b[0m\u001b[0;34m(\u001b[0m\u001b[0mX1\u001b[0m\u001b[0;34m,\u001b[0m \u001b[0mslr\u001b[0m\u001b[0;34m.\u001b[0m\u001b[0mpredict\u001b[0m\u001b[0;34m(\u001b[0m\u001b[0mX1\u001b[0m\u001b[0;34m)\u001b[0m\u001b[0;34m,\u001b[0m \u001b[0mcolor\u001b[0m\u001b[0;34m=\u001b[0m\u001b[0;34m'red'\u001b[0m\u001b[0;34m,\u001b[0m \u001b[0mlinewidth\u001b[0m\u001b[0;34m=\u001b[0m\u001b[0;36m2\u001b[0m\u001b[0;34m)\u001b[0m\u001b[0;34m;\u001b[0m\u001b[0;34m\u001b[0m\u001b[0;34m\u001b[0m\u001b[0m\n",
            "\u001b[0;32m/usr/local/lib/python3.6/dist-packages/matplotlib/pyplot.py\u001b[0m in \u001b[0;36mscatter\u001b[0;34m(x, y, s, c, marker, cmap, norm, vmin, vmax, alpha, linewidths, verts, edgecolors, plotnonfinite, data, **kwargs)\u001b[0m\n\u001b[1;32m   2814\u001b[0m         \u001b[0mverts\u001b[0m\u001b[0;34m=\u001b[0m\u001b[0mverts\u001b[0m\u001b[0;34m,\u001b[0m \u001b[0medgecolors\u001b[0m\u001b[0;34m=\u001b[0m\u001b[0medgecolors\u001b[0m\u001b[0;34m,\u001b[0m\u001b[0;34m\u001b[0m\u001b[0;34m\u001b[0m\u001b[0m\n\u001b[1;32m   2815\u001b[0m         plotnonfinite=plotnonfinite, **({\"data\": data} if data is not\n\u001b[0;32m-> 2816\u001b[0;31m         None else {}), **kwargs)\n\u001b[0m\u001b[1;32m   2817\u001b[0m     \u001b[0msci\u001b[0m\u001b[0;34m(\u001b[0m\u001b[0m__ret\u001b[0m\u001b[0;34m)\u001b[0m\u001b[0;34m\u001b[0m\u001b[0;34m\u001b[0m\u001b[0m\n\u001b[1;32m   2818\u001b[0m     \u001b[0;32mreturn\u001b[0m \u001b[0m__ret\u001b[0m\u001b[0;34m\u001b[0m\u001b[0;34m\u001b[0m\u001b[0m\n",
            "\u001b[0;32m/usr/local/lib/python3.6/dist-packages/matplotlib/__init__.py\u001b[0m in \u001b[0;36minner\u001b[0;34m(ax, data, *args, **kwargs)\u001b[0m\n\u001b[1;32m   1563\u001b[0m     \u001b[0;32mdef\u001b[0m \u001b[0minner\u001b[0m\u001b[0;34m(\u001b[0m\u001b[0max\u001b[0m\u001b[0;34m,\u001b[0m \u001b[0;34m*\u001b[0m\u001b[0margs\u001b[0m\u001b[0;34m,\u001b[0m \u001b[0mdata\u001b[0m\u001b[0;34m=\u001b[0m\u001b[0;32mNone\u001b[0m\u001b[0;34m,\u001b[0m \u001b[0;34m**\u001b[0m\u001b[0mkwargs\u001b[0m\u001b[0;34m)\u001b[0m\u001b[0;34m:\u001b[0m\u001b[0;34m\u001b[0m\u001b[0;34m\u001b[0m\u001b[0m\n\u001b[1;32m   1564\u001b[0m         \u001b[0;32mif\u001b[0m \u001b[0mdata\u001b[0m \u001b[0;32mis\u001b[0m \u001b[0;32mNone\u001b[0m\u001b[0;34m:\u001b[0m\u001b[0;34m\u001b[0m\u001b[0;34m\u001b[0m\u001b[0m\n\u001b[0;32m-> 1565\u001b[0;31m             \u001b[0;32mreturn\u001b[0m \u001b[0mfunc\u001b[0m\u001b[0;34m(\u001b[0m\u001b[0max\u001b[0m\u001b[0;34m,\u001b[0m \u001b[0;34m*\u001b[0m\u001b[0mmap\u001b[0m\u001b[0;34m(\u001b[0m\u001b[0msanitize_sequence\u001b[0m\u001b[0;34m,\u001b[0m \u001b[0margs\u001b[0m\u001b[0;34m)\u001b[0m\u001b[0;34m,\u001b[0m \u001b[0;34m**\u001b[0m\u001b[0mkwargs\u001b[0m\u001b[0;34m)\u001b[0m\u001b[0;34m\u001b[0m\u001b[0;34m\u001b[0m\u001b[0m\n\u001b[0m\u001b[1;32m   1566\u001b[0m \u001b[0;34m\u001b[0m\u001b[0m\n\u001b[1;32m   1567\u001b[0m         \u001b[0mbound\u001b[0m \u001b[0;34m=\u001b[0m \u001b[0mnew_sig\u001b[0m\u001b[0;34m.\u001b[0m\u001b[0mbind\u001b[0m\u001b[0;34m(\u001b[0m\u001b[0max\u001b[0m\u001b[0;34m,\u001b[0m \u001b[0;34m*\u001b[0m\u001b[0margs\u001b[0m\u001b[0;34m,\u001b[0m \u001b[0;34m**\u001b[0m\u001b[0mkwargs\u001b[0m\u001b[0;34m)\u001b[0m\u001b[0;34m\u001b[0m\u001b[0;34m\u001b[0m\u001b[0m\n",
            "\u001b[0;32m/usr/local/lib/python3.6/dist-packages/matplotlib/cbook/deprecation.py\u001b[0m in \u001b[0;36mwrapper\u001b[0;34m(*args, **kwargs)\u001b[0m\n\u001b[1;32m    356\u001b[0m                 \u001b[0;34mf\"%(removal)s.  If any parameter follows {name!r}, they \"\u001b[0m\u001b[0;34m\u001b[0m\u001b[0;34m\u001b[0m\u001b[0m\n\u001b[1;32m    357\u001b[0m                 f\"should be pass as keyword, not positionally.\")\n\u001b[0;32m--> 358\u001b[0;31m         \u001b[0;32mreturn\u001b[0m \u001b[0mfunc\u001b[0m\u001b[0;34m(\u001b[0m\u001b[0;34m*\u001b[0m\u001b[0margs\u001b[0m\u001b[0;34m,\u001b[0m \u001b[0;34m**\u001b[0m\u001b[0mkwargs\u001b[0m\u001b[0;34m)\u001b[0m\u001b[0;34m\u001b[0m\u001b[0;34m\u001b[0m\u001b[0m\n\u001b[0m\u001b[1;32m    359\u001b[0m \u001b[0;34m\u001b[0m\u001b[0m\n\u001b[1;32m    360\u001b[0m     \u001b[0;32mreturn\u001b[0m \u001b[0mwrapper\u001b[0m\u001b[0;34m\u001b[0m\u001b[0;34m\u001b[0m\u001b[0m\n",
            "\u001b[0;32m/usr/local/lib/python3.6/dist-packages/matplotlib/axes/_axes.py\u001b[0m in \u001b[0;36mscatter\u001b[0;34m(self, x, y, s, c, marker, cmap, norm, vmin, vmax, alpha, linewidths, verts, edgecolors, plotnonfinite, **kwargs)\u001b[0m\n\u001b[1;32m   4389\u001b[0m         \u001b[0my\u001b[0m \u001b[0;34m=\u001b[0m \u001b[0mnp\u001b[0m\u001b[0;34m.\u001b[0m\u001b[0mma\u001b[0m\u001b[0;34m.\u001b[0m\u001b[0mravel\u001b[0m\u001b[0;34m(\u001b[0m\u001b[0my\u001b[0m\u001b[0;34m)\u001b[0m\u001b[0;34m\u001b[0m\u001b[0;34m\u001b[0m\u001b[0m\n\u001b[1;32m   4390\u001b[0m         \u001b[0;32mif\u001b[0m \u001b[0mx\u001b[0m\u001b[0;34m.\u001b[0m\u001b[0msize\u001b[0m \u001b[0;34m!=\u001b[0m \u001b[0my\u001b[0m\u001b[0;34m.\u001b[0m\u001b[0msize\u001b[0m\u001b[0;34m:\u001b[0m\u001b[0;34m\u001b[0m\u001b[0;34m\u001b[0m\u001b[0m\n\u001b[0;32m-> 4391\u001b[0;31m             \u001b[0;32mraise\u001b[0m \u001b[0mValueError\u001b[0m\u001b[0;34m(\u001b[0m\u001b[0;34m\"x and y must be the same size\"\u001b[0m\u001b[0;34m)\u001b[0m\u001b[0;34m\u001b[0m\u001b[0;34m\u001b[0m\u001b[0m\n\u001b[0m\u001b[1;32m   4392\u001b[0m \u001b[0;34m\u001b[0m\u001b[0m\n\u001b[1;32m   4393\u001b[0m         \u001b[0;32mif\u001b[0m \u001b[0ms\u001b[0m \u001b[0;32mis\u001b[0m \u001b[0;32mNone\u001b[0m\u001b[0;34m:\u001b[0m\u001b[0;34m\u001b[0m\u001b[0;34m\u001b[0m\u001b[0m\n",
            "\u001b[0;31mValueError\u001b[0m: x and y must be the same size"
          ]
        },
        {
          "output_type": "display_data",
          "data": {
            "image/png": "[encoded data removed]",
            "text/plain": [
              "<Figure size 432x288 with 1 Axes>"
            ]
          },
          "metadata": {
            "tags": [],
            "needs_background": "light"
          }
        }
      ]
    },
    {
      "cell_type": "code",
      "metadata": {
        "colab": {
          "base_uri": "https://localhost:8080/"
        },
        "id": "3ZizcvqAtvk5",
        "outputId": "fdb54160-8471-4908-f953-1e3d5e4f5191"
      },
      "source": [
        "#прогноз потребления на 2021\n",
        "X2= df_pr[['Cap2021']].values\n",
        "print(X2)\n",
        "slr.fit(X, y)\n",
        "y2_pred = slr.predict(X2)\n",
        "print(y2_pred)"
      ],
      "execution_count": 78,
      "outputs": [
        {
          "output_type": "stream",
          "text": [
            "[[  7351.37222222]\n",
            " [  2052.47222222]\n",
            " [ 49590.7       ]\n",
            " [147040.50555556]\n",
            " [ 16684.75555556]\n",
            " [ 43526.64444444]\n",
            " [ 87170.88888889]\n",
            " [ 16285.        ]\n",
            " [ 35999.06111111]\n",
            " [  6128.58333333]\n",
            " [ 12457.21111111]\n",
            " [  6901.82222222]\n",
            " [  9004.93888889]\n",
            " [  9964.31111111]\n",
            " [ 43848.85      ]]\n",
            "[ 1848.97615887   907.54882784  9353.4124786  26666.80022967\n",
            "  3507.18864845  8276.04403667 16030.08441532  3436.16620875\n",
            "  6938.65841199  1631.72977187  2756.10335091  1769.10700553\n",
            "  2142.75653852  2313.20308981  8333.28858105]\n"
          ],
          "name": "stdout"
        }
      ]
    },
    {
      "cell_type": "code",
      "metadata": {
        "colab": {
          "base_uri": "https://localhost:8080/"
        },
        "id": "3PHtqT1dU3kq",
        "outputId": "4f9abac3-b75a-495a-93ea-44318bf306a4"
      },
      "source": [
        "# Линейная модель\n",
        "# Реалистичный прогноз\n",
        "data = pd.read_excel('/main_data1.xlsx', keep_default_na=False)\n",
        "df = pd.DataFrame(data)\n",
        "X = df[['I1','I2','I3']].values\n",
        "#X=sklearn.preprocessing.scale(X)\n",
        "y = df['Energy'].values\n",
        "#прогноз на 2019\n",
        "data1 = pd.read_excel('prognoz.xlsx', keep_default_na=False)\n",
        "df1 = pd.DataFrame(data1)\n",
        "X1 = df1[['I1','I2','I3']].values\n",
        "#X1=sklearn.preprocessing.scale(X1)\n",
        "slr = LinearRegression()\n",
        "slr.fit(X, y)\n",
        "y2019={'2019':slr.predict(X1)}\n",
        "#print(y2019)\n",
        "#прогноз на 2020\n",
        "data2 = pd.read_excel('prognoz2.xlsx', keep_default_na=False)\n",
        "df2 = pd.DataFrame(data2)\n",
        "X2 = df2[['I1','I2','I3']].values\n",
        "#X2=sklearn.preprocessing.scale(X2)\n",
        "y2020={'2020':slr.predict(X2)}\n",
        "#print(y2020)\n",
        "#прогноз на 2021\n",
        "data3 = pd.read_excel('prognoz3.xlsx', keep_default_na=False)\n",
        "df3 = pd.DataFrame(data3)\n",
        "X3 = df3[['I1','I2','I3']].values\n",
        "#X3=sklearn.preprocessing.scale(X3)\n",
        "y2021={'2021':slr.predict(X3)}\n",
        "#print(y2021)\n",
        "#прогноз на 2022\n",
        "data4 = pd.read_excel('prognoz4.xlsx', keep_default_na=False)\n",
        "df4 = pd.DataFrame(data4)\n",
        "X4 = df4[['I1','I2','I3']].values\n",
        "#X4=sklearn.preprocessing.scale(X4)\n",
        "y2022={'2022': slr.predict(X4)}\n",
        "#print(y2022)\n",
        "df2019 = pd.DataFrame(y2019)\n",
        "df2020 = pd.DataFrame(y2020)\n",
        "s2020=df2020.sum()\n",
        "df2021 = pd.DataFrame(y2021)\n",
        "s2021=df2021.sum()\n",
        "df2022 = pd.DataFrame(y2022)\n",
        "s2022=df2022.sum()\n",
        "new_df = pd.concat([df2020, df2021,df2022],axis=1)\n",
        "\n",
        "print(new_df)"
      ],
      "execution_count": 370,
      "outputs": [
        {
          "output_type": "stream",
          "text": [
            "            2020          2021          2022\n",
            "0    3672.570250   4064.688625   4456.807001\n",
            "1    2910.595281   2974.528429   3038.461577\n",
            "2   19796.539025  18989.045424  18181.551823\n",
            "3    6526.250488   5490.431114   5196.107687\n",
            "4    9093.646762   8828.971428   8564.296094\n",
            "5   11007.731743   8411.832610   5815.933477\n",
            "6    9924.855015  10452.252428  10979.649842\n",
            "7    3235.401224   3267.655655   3299.910085\n",
            "8    3724.079238   3748.924032   3773.768826\n",
            "9    3370.014762   3514.735715   3659.456669\n",
            "10   3628.172478   3798.006829   3967.841179\n",
            "11   5323.666819   5763.988624   6204.310430\n",
            "12   8367.893862   9031.675890   9695.457918\n"
          ],
          "name": "stdout"
        }
      ]
    },
    {
      "cell_type": "code",
      "metadata": {
        "colab": {
          "base_uri": "https://localhost:8080/"
        },
        "id": "bhi5FPdCCd1b",
        "outputId": "54e1bf84-c484-4b95-d555-48976686b22e"
      },
      "source": [
        "# Линейная модель\n",
        "# Позитивный прогноз\n",
        "\n",
        "#прогноз на 2020\n",
        "data2_p = pd.read_excel('prognoz2_p.xlsx', keep_default_na=False)\n",
        "df2_p = pd.DataFrame(data2_p)\n",
        "X2_p = df2_p[['I1','I2','I3']].values\n",
        "#X2_p=sklearn.preprocessing.scale(X2_p)\n",
        "y2020_p=slr.predict(X2_p)\n",
        "#print(y2020_p)\n",
        "#прогноз на 2021\n",
        "data3_p = pd.read_excel('prognoz3_p.xlsx', keep_default_na=False)\n",
        "df3_p = pd.DataFrame(data3_p)\n",
        "X3_p = df3_p[['I1','I2','I3']].values\n",
        "#X3_p=sklearn.preprocessing.scale(X3_p)\n",
        "y2021_p=slr.predict(X3_p)\n",
        "#print(y2021_p)\n",
        "#прогноз на 2022\n",
        "data4_p = pd.read_excel('prognoz4_p.xlsx', keep_default_na=False)\n",
        "df4_p = pd.DataFrame(data4_p)\n",
        "X4_p = df4_p[['I1','I2','I3']].values\n",
        "#X4_p=sklearn.preprocessing.scale(X4_p)\n",
        "y2022_p=slr.predict(X4_p)\n",
        "#print(y2022_p)\n",
        "df2020_p = pd.DataFrame(y2020_p)\n",
        "df2021_p = pd.DataFrame(y2021_p)\n",
        "df2022_p = pd.DataFrame(y2022_p)\n",
        "s2020p=df2020_p.sum()\n",
        "s2021p=df2021_p.sum()\n",
        "s2022p=df2022_p.sum()\n",
        "new_df_p = pd.concat([df2020_p, df2021_p,df2022_p],axis=1)\n",
        "print(new_df_p)"
      ],
      "execution_count": 386,
      "outputs": [
        {
          "output_type": "stream",
          "text": [
            "               0             0             0\n",
            "0    3892.937986   4815.754996   6402.164386\n",
            "1    2987.277229   3225.541504   3672.444913\n",
            "2   22187.387789  26416.035290  36289.497328\n",
            "3    6299.080209   5378.319608   4864.948788\n",
            "4   10016.679760  11703.013970  15583.095795\n",
            "5   11954.600972  11028.729317  11639.307174\n",
            "6   11050.998969  14079.941015  20046.537653\n",
            "7    3355.003352   3649.547440   4248.787811\n",
            "8    3912.555697   4347.028579   5253.679731\n",
            "9    3520.821734   4011.098661   4917.528684\n",
            "10   3818.465146   4422.510431   5547.744837\n",
            "11   5784.564047   7280.694618  10048.068206\n",
            "12   9286.647072  12024.578287  17230.889381\n"
          ],
          "name": "stdout"
        }
      ]
    },
    {
      "cell_type": "code",
      "metadata": {
        "colab": {
          "base_uri": "https://localhost:8080/"
        },
        "id": "mQH3IKeKE2rq",
        "outputId": "a4cab9c6-b106-476d-9a35-8f2d9743ec05"
      },
      "source": [
        "# Линейная модель\n",
        "# Негативный прогноз\n",
        "#прогноз на 2020\n",
        "data2_n = pd.read_excel('prognoz2_n.xlsx', keep_default_na=False)\n",
        "df2_n = pd.DataFrame(data2_n)\n",
        "X2_n = df2_n[['I1','I2','I3']].values\n",
        "#X2_n=sklearn.preprocessing.scale(X2_n)\n",
        "y2020_n=slr.predict(X2_n)\n",
        "#print(y2020_n)\n",
        "#прогноз на 2021\n",
        "data3_n = pd.read_excel('prognoz3_n.xlsx', keep_default_na=False)\n",
        "df3_n = pd.DataFrame(data3_n)\n",
        "X3_n = df3_n[['I1','I2','I3']].values\n",
        "#X3_n=sklearn.preprocessing.scale(X3_n)\n",
        "y2021_n=slr.predict(X3_n)\n",
        "#print(y2021_n)\n",
        "#прогноз на 2022\n",
        "data4_n = pd.read_excel('prognoz4_n.xlsx', keep_default_na=False)\n",
        "df4_n = pd.DataFrame(data4_n)\n",
        "X4_n = df4_n[['I1','I2','I3']].values\n",
        "#X4_n=sklearn.preprocessing.scale(X4_n)\n",
        "y2022_n=slr.predict(X4_n)\n",
        "#print(y2022_n)\n",
        "df2020_n = pd.DataFrame(y2020_n)\n",
        "df2021_n = pd.DataFrame(y2021_n)\n",
        "df2022_n = pd.DataFrame(y2022_n)\n",
        "s2020n=df2020_n.sum()\n",
        "s2021n=df2021_n.sum()\n",
        "s2022n=df2022_n.sum()\n",
        "new_df_n = pd.concat([df2020_n, df2021_n,df2022_n],axis=1)\n",
        "print(new_df_n)"
      ],
      "execution_count": 390,
      "outputs": [
        {
          "output_type": "stream",
          "text": [
            "               0             0             0\n",
            "0    3562.386382   3755.265761   3795.391636\n",
            "1    2872.254307   2872.026475   2826.679791\n",
            "2   18601.114643  15992.805120  12288.107048\n",
            "3    5951.741257   4151.353807   3357.113344\n",
            "4    8632.130262   7668.860056   6277.091876\n",
            "5   10534.297128   7387.445025   4755.277815\n",
            "6    9361.783038   8976.251321   7973.708654\n",
            "7    3175.600160   3112.590401   2986.683588\n",
            "8    3629.841009   3506.414697   3286.750557\n",
            "9    3294.611276   3311.796334   3238.144264\n",
            "10   3533.026145   3542.842828   3439.454572\n",
            "11   5093.218205   5143.904796   4917.193259\n",
            "12   7908.517257   7810.850654   7183.926657\n"
          ],
          "name": "stdout"
        }
      ]
    },
    {
      "cell_type": "code",
      "metadata": {
        "colab": {
          "base_uri": "https://localhost:8080/",
          "height": 374
        },
        "id": "xPnCyQrjlY0C",
        "outputId": "5776db84-51f5-45d6-bb5c-b6119d0be83d"
      },
      "source": [
        "x = ['2020', '2021', '2022']\n",
        "y1 = [int(s2020),int(s2021),int(s2022)] # реальный\n",
        "y2=[int(s2020p),int(s2021p),int(s2022p)] #позитивный\n",
        "y3=[int(s2020n),int(s2021n),int(s2022n)] #негативный\n",
        "\n",
        "fig, ax = plt.subplots()\n",
        "\n",
        "ax.plot(x, y1, color = 'cadetblue', linewidth = 3, label = 'Объективный')\n",
        "ax.bar(x, y2,color = 'powderblue',label = 'Позитивный')\n",
        "ax.bar(x, y3,color = 'teal',label = 'Негативный')\n",
        "\n",
        "fig.set_figwidth(9)    #  ширина Figure\n",
        "fig.set_figheight(6)    #  высота Figure\n",
        "ax.legend()\n",
        "\n",
        "plt.show()"
      ],
      "execution_count": 415,
      "outputs": [
        {
          "output_type": "display_data",
          "data": {
            "image/png": "[encoded data removed]",
            "text/plain": [
              "<Figure size 648x432 with 1 Axes>"
            ]
          },
          "metadata": {
            "tags": [],
            "needs_background": "light"
          }
        }
      ]
    },
    {
      "cell_type": "code",
      "metadata": {
        "id": "JfFgRh1ywNOi",
        "colab": {
          "base_uri": "https://localhost:8080/"
        },
        "outputId": "93080f76-209b-406c-f65f-f0817c977794"
      },
      "source": [
        "# Нейросеть\n",
        "data = pd.read_excel('/main_data1.xlsx', keep_default_na=False)\n",
        "df = pd.DataFrame(data)\n",
        "X = df[['I1','I2','I3']].values\n",
        "#X=sklearn.preprocessing.scale(X)\n",
        "y = df['Energy'].values\n",
        "\n",
        "data1 = pd.read_excel('/prognoz.xlsx', keep_default_na=False)\n",
        "df1 = pd.DataFrame(data1)\n",
        "X1 = df1[['I1','I2','I3']].values\n",
        "#X1=sklearn.preprocessing.scale(X1)\n",
        "\n",
        "import tensorflow as tf\n",
        "from tensorflow import keras\n",
        "from tensorflow.keras import layers\n",
        "from keras.models import Sequential\n",
        "#from keras.models import Dense\n",
        "model = Sequential(\n",
        "[\n",
        "       layers.Dense(3, activation=\"relu\", name=\"layer1\", input_dim=3),\n",
        "       layers.Dense(30, activation=\"relu\", name=\"layer2\"),\n",
        "       layers.Dense(1, activation=\"sigmoid\", name=\"layer3\"),\n",
        "  ])\n",
        "#model.add(Dense(units=64, activation='relu', input_dim=100))\n",
        "#model.add(Dense(units=10, activation='softmax'))\n",
        "model.compile(loss='mean_squared_error', optimizer='adam', metrics = [\"accuracy\"])\n",
        "model.fit(X, y, validation_split=0.1, epochs=30)\n",
        "model.summary()\n",
        "y3=model.predict(X1)\n",
        "print(y3)"
      ],
      "execution_count": 270,
      "outputs": [
        {
          "output_type": "stream",
          "text": [
            "Epoch 1/30\n",
            "4/4 [==============================] - 0s 30ms/step - loss: 95880664.0000 - accuracy: 0.0000e+00 - val_loss: 105789144.0000 - val_accuracy: 0.0000e+00\n",
            "Epoch 2/30\n",
            "4/4 [==============================] - 0s 9ms/step - loss: 95880632.0000 - accuracy: 0.0000e+00 - val_loss: 105789128.0000 - val_accuracy: 0.0000e+00\n",
            "Epoch 3/30\n",
            "4/4 [==============================] - 0s 6ms/step - loss: 95880280.0000 - accuracy: 0.0000e+00 - val_loss: 105789112.0000 - val_accuracy: 0.0000e+00\n",
            "Epoch 4/30\n",
            "4/4 [==============================] - 0s 6ms/step - loss: 95880208.0000 - accuracy: 0.0000e+00 - val_loss: 105789072.0000 - val_accuracy: 0.0000e+00\n",
            "Epoch 5/30\n",
            "4/4 [==============================] - 0s 6ms/step - loss: 95880176.0000 - accuracy: 0.0000e+00 - val_loss: 105789056.0000 - val_accuracy: 0.0000e+00\n",
            "Epoch 6/30\n",
            "4/4 [==============================] - 0s 6ms/step - loss: 95880136.0000 - accuracy: 0.0000e+00 - val_loss: 105789032.0000 - val_accuracy: 0.0000e+00\n",
            "Epoch 7/30\n",
            "4/4 [==============================] - 0s 6ms/step - loss: 95880104.0000 - accuracy: 0.0000e+00 - val_loss: 105789000.0000 - val_accuracy: 0.0000e+00\n",
            "Epoch 8/30\n",
            "4/4 [==============================] - 0s 5ms/step - loss: 95880088.0000 - accuracy: 0.0000e+00 - val_loss: 105788976.0000 - val_accuracy: 0.0000e+00\n",
            "Epoch 9/30\n",
            "4/4 [==============================] - 0s 5ms/step - loss: 95880056.0000 - accuracy: 0.0000e+00 - val_loss: 105788944.0000 - val_accuracy: 0.0000e+00\n",
            "Epoch 10/30\n",
            "4/4 [==============================] - 0s 7ms/step - loss: 95880016.0000 - accuracy: 0.0000e+00 - val_loss: 105788584.0000 - val_accuracy: 0.0000e+00\n",
            "Epoch 11/30\n",
            "4/4 [==============================] - 0s 6ms/step - loss: 95879992.0000 - accuracy: 0.0000e+00 - val_loss: 105788544.0000 - val_accuracy: 0.0000e+00\n",
            "Epoch 12/30\n",
            "4/4 [==============================] - 0s 6ms/step - loss: 95879960.0000 - accuracy: 0.0000e+00 - val_loss: 105788520.0000 - val_accuracy: 0.0000e+00\n",
            "Epoch 13/30\n",
            "4/4 [==============================] - 0s 7ms/step - loss: 95879928.0000 - accuracy: 0.0000e+00 - val_loss: 105788480.0000 - val_accuracy: 0.0000e+00\n",
            "Epoch 14/30\n",
            "4/4 [==============================] - 0s 5ms/step - loss: 95879888.0000 - accuracy: 0.0000e+00 - val_loss: 105788440.0000 - val_accuracy: 0.0000e+00\n",
            "Epoch 15/30\n",
            "4/4 [==============================] - 0s 6ms/step - loss: 95879856.0000 - accuracy: 0.0000e+00 - val_loss: 105788416.0000 - val_accuracy: 0.0000e+00\n",
            "Epoch 16/30\n",
            "4/4 [==============================] - 0s 6ms/step - loss: 95879816.0000 - accuracy: 0.0000e+00 - val_loss: 105788360.0000 - val_accuracy: 0.0000e+00\n",
            "Epoch 17/30\n",
            "4/4 [==============================] - 0s 6ms/step - loss: 95879784.0000 - accuracy: 0.0000e+00 - val_loss: 105788328.0000 - val_accuracy: 0.0000e+00\n",
            "Epoch 18/30\n",
            "4/4 [==============================] - 0s 6ms/step - loss: 95879744.0000 - accuracy: 0.0000e+00 - val_loss: 105788288.0000 - val_accuracy: 0.0000e+00\n",
            "Epoch 19/30\n",
            "4/4 [==============================] - 0s 6ms/step - loss: 95879704.0000 - accuracy: 0.0000e+00 - val_loss: 105788240.0000 - val_accuracy: 0.0000e+00\n",
            "Epoch 20/30\n",
            "4/4 [==============================] - 0s 6ms/step - loss: 95879664.0000 - accuracy: 0.0000e+00 - val_loss: 105788208.0000 - val_accuracy: 0.0000e+00\n",
            "Epoch 21/30\n",
            "4/4 [==============================] - 0s 5ms/step - loss: 95879616.0000 - accuracy: 0.0000e+00 - val_loss: 105788152.0000 - val_accuracy: 0.0000e+00\n",
            "Epoch 22/30\n",
            "4/4 [==============================] - 0s 6ms/step - loss: 95879576.0000 - accuracy: 0.0000e+00 - val_loss: 105788104.0000 - val_accuracy: 0.0000e+00\n",
            "Epoch 23/30\n",
            "4/4 [==============================] - 0s 6ms/step - loss: 95879536.0000 - accuracy: 0.0000e+00 - val_loss: 105788072.0000 - val_accuracy: 0.0000e+00\n",
            "Epoch 24/30\n",
            "4/4 [==============================] - 0s 6ms/step - loss: 95879496.0000 - accuracy: 0.0000e+00 - val_loss: 105788008.0000 - val_accuracy: 0.0000e+00\n",
            "Epoch 25/30\n",
            "4/4 [==============================] - 0s 6ms/step - loss: 95879440.0000 - accuracy: 0.0000e+00 - val_loss: 105787960.0000 - val_accuracy: 0.0000e+00\n",
            "Epoch 26/30\n",
            "4/4 [==============================] - 0s 7ms/step - loss: 95879392.0000 - accuracy: 0.0000e+00 - val_loss: 105787904.0000 - val_accuracy: 0.0000e+00\n",
            "Epoch 27/30\n",
            "4/4 [==============================] - 0s 7ms/step - loss: 95879344.0000 - accuracy: 0.0000e+00 - val_loss: 105787848.0000 - val_accuracy: 0.0000e+00\n",
            "Epoch 28/30\n",
            "4/4 [==============================] - 0s 6ms/step - loss: 95879288.0000 - accuracy: 0.0000e+00 - val_loss: 105787800.0000 - val_accuracy: 0.0000e+00\n",
            "Epoch 29/30\n",
            "4/4 [==============================] - 0s 6ms/step - loss: 95879248.0000 - accuracy: 0.0000e+00 - val_loss: 105787760.0000 - val_accuracy: 0.0000e+00\n",
            "Epoch 30/30\n",
            "4/4 [==============================] - 0s 6ms/step - loss: 95879184.0000 - accuracy: 0.0000e+00 - val_loss: 105787696.0000 - val_accuracy: 0.0000e+00\n",
            "Model: \"sequential_138\"\n",
            "_________________________________________________________________\n",
            "Layer (type)                 Output Shape              Param #   \n",
            "=================================================================\n",
            "layer1 (Dense)               (None, 3)                 12        \n",
            "_________________________________________________________________\n",
            "layer2 (Dense)               (None, 30)                120       \n",
            "_________________________________________________________________\n",
            "layer3 (Dense)               (None, 1)                 31        \n",
            "=================================================================\n",
            "Total params: 163\n",
            "Trainable params: 163\n",
            "Non-trainable params: 0\n",
            "_________________________________________________________________\n",
            "WARNING:tensorflow:11 out of the last 11 calls to <function Model.make_predict_function.<locals>.predict_function at 0x7f0a51361048> triggered tf.function retracing. Tracing is expensive and the excessive number of tracings could be due to (1) creating @tf.function repeatedly in a loop, (2) passing tensors with different shapes, (3) passing Python objects instead of tensors. For (1), please define your @tf.function outside of the loop. For (2), @tf.function has experimental_relax_shapes=True option that relaxes argument shapes that can avoid unnecessary retracing. For (3), please refer to https://www.tensorflow.org/tutorials/customization/performance#python_or_tensor_args and https://www.tensorflow.org/api_docs/python/tf/function for  more details.\n",
            "[[0.60240763]\n",
            " [0.60240763]\n",
            " [0.60240763]\n",
            " [0.60240763]\n",
            " [0.60240763]\n",
            " [0.        ]\n",
            " [0.60240763]\n",
            " [0.60240763]\n",
            " [0.60240763]\n",
            " [0.60240763]\n",
            " [0.60240763]\n",
            " [0.60240763]\n",
            " [0.60240763]]\n"
          ],
          "name": "stdout"
        }
      ]
    },
    {
      "cell_type": "code",
      "metadata": {
        "id": "aUi1Ihs4GlMG"
      },
      "source": [
        "from google.colab import drive\n",
        "drive.mount('/content/drive')"
      ],
      "execution_count": null,
      "outputs": []
    }
  ]
}