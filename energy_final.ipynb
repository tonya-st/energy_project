{
 "cells": [
  {
   "cell_type": "code",
   "execution_count": 1,
   "metadata": {},
   "outputs": [],
   "source": [
    "import pandas as pd\n",
    "import matplotlib.pyplot as plt\n",
    "import numpy as np\n",
    "import math"
   ]
  },
  {
   "cell_type": "code",
   "execution_count": 174,
   "metadata": {},
   "outputs": [
    {
     "data": {
      "text/html": [
       "<div>\n",
       "<style scoped>\n",
       "    .dataframe tbody tr th:only-of-type {\n",
       "        vertical-align: middle;\n",
       "    }\n",
       "\n",
       "    .dataframe tbody tr th {\n",
       "        vertical-align: top;\n",
       "    }\n",
       "\n",
       "    .dataframe thead th {\n",
       "        text-align: right;\n",
       "    }\n",
       "</style>\n",
       "<table border=\"1\" class=\"dataframe\">\n",
       "  <thead>\n",
       "    <tr style=\"text-align: right;\">\n",
       "      <th></th>\n",
       "      <th>t</th>\n",
       "      <th>C</th>\n",
       "      <th>X</th>\n",
       "      <th>G</th>\n",
       "    </tr>\n",
       "  </thead>\n",
       "  <tbody>\n",
       "    <tr>\n",
       "      <td>0</td>\n",
       "      <td>1</td>\n",
       "      <td>12.1</td>\n",
       "      <td>0</td>\n",
       "      <td>33.814</td>\n",
       "    </tr>\n",
       "    <tr>\n",
       "      <td>1</td>\n",
       "      <td>2</td>\n",
       "      <td>12.1</td>\n",
       "      <td>0</td>\n",
       "      <td>29.378</td>\n",
       "    </tr>\n",
       "    <tr>\n",
       "      <td>2</td>\n",
       "      <td>3</td>\n",
       "      <td>12.1</td>\n",
       "      <td>0</td>\n",
       "      <td>30.920</td>\n",
       "    </tr>\n",
       "    <tr>\n",
       "      <td>3</td>\n",
       "      <td>4</td>\n",
       "      <td>12.1</td>\n",
       "      <td>0</td>\n",
       "      <td>29.299</td>\n",
       "    </tr>\n",
       "    <tr>\n",
       "      <td>4</td>\n",
       "      <td>5</td>\n",
       "      <td>12.1</td>\n",
       "      <td>0</td>\n",
       "      <td>29.137</td>\n",
       "    </tr>\n",
       "  </tbody>\n",
       "</table>\n",
       "</div>"
      ],
      "text/plain": [
       "   t     C  X       G\n",
       "0  1  12.1  0  33.814\n",
       "1  2  12.1  0  29.378\n",
       "2  3  12.1  0  30.920\n",
       "3  4  12.1  0  29.299\n",
       "4  5  12.1  0  29.137"
      ]
     },
     "execution_count": 174,
     "metadata": {},
     "output_type": "execute_result"
    }
   ],
   "source": [
    "#базовые данные (потребление, выработка)\n",
    "#необходимо при импорте файла сразу заменять в десятичных числах запятную на точку\n",
    "data = pd.read_csv(r\"/Users/user/Desktop/energy.csv\",decimal=\",\",sep=';')\n",
    "data.head()"
   ]
  },
  {
   "cell_type": "code",
   "execution_count": 175,
   "metadata": {},
   "outputs": [],
   "source": [
    "#Определение дефицита активной мощности (E), кВт*ч\n",
    "def deficit(df):\n",
    "    #Расчет разности потребления и выработки активной мощности, кВт*ч\n",
    "    df2[\"D\"] = (df2[\"X\"]+df2[\"C\"])*1.15-df2[\"G\"]\n",
    "    df2['i'] = df2.index.tolist()\n",
    "    for l in range(len(df)):\n",
    "        e=df.loc[l,'D']\n",
    "        e_round=int(math.ceil(e))\n",
    "        #e_round - значение D\n",
    "        if  e_round <= 0 :\n",
    "            df.at[int(l),'E']=0\n",
    "        else:\n",
    "            df.at[int(l),'E']=df.loc[int(l),'D']\n",
    "    return df"
   ]
  },
  {
   "cell_type": "code",
   "execution_count": 176,
   "metadata": {},
   "outputs": [],
   "source": [
    "#Расход топлива (f), кг\n",
    "def rashod(df) :\n",
    "    m=0.25\n",
    "    s=df['E'].sum()\n",
    "    f=m*s\n",
    "    print(\"Расход топлива:\", f)\n",
    "#Затраты на топливо (с), руб.\n",
    "    c=f*50\n",
    "    print(\"Затраты на топливо (с)\", c)\n",
    "#Выбросы (ecol), кг\n",
    "    ecol=f/10\n",
    "    print(\"Выбросы (ecol):\", ecol)"
   ]
  },
  {
   "cell_type": "code",
   "execution_count": 177,
   "metadata": {},
   "outputs": [],
   "source": [
    "#Определение профицита активной мощности (F), кВт*ч\n",
    "def poficit(df):\n",
    "    for l in range(len(df)):\n",
    "        f=df.loc[l,['D']]\n",
    "        f_round=int(math.ceil(f))\n",
    "        if  f_round < 0 :\n",
    "            df.at[int(l),'F']=-df.at[int(l),'D']\n",
    "        else:\n",
    "            df.at[int(l),'F']=0\n",
    "    return df"
   ]
  },
  {
   "cell_type": "code",
   "execution_count": 178,
   "metadata": {},
   "outputs": [],
   "source": [
    "#Бросовая энергия (dump),кВт*ч\n",
    "def brosenergy(df):\n",
    "    for l in range(len(df)):\n",
    "        e1=df.loc[l,'E'] #дефицит мощности\n",
    "        e1_round=int(math.ceil(e1))\n",
    "        x1=df.loc[l,'X'] #работающая прачечная\n",
    "        x1_round=int(math.ceil(x1))\n",
    "        if  e1_round > 0 and x1_round > 0 :\n",
    "            df.at[int(l),'k']=1\n",
    "        else:\n",
    "            df.at[int(l),'k']=0\n",
    "    return df"
   ]
  },
  {
   "cell_type": "code",
   "execution_count": 179,
   "metadata": {},
   "outputs": [],
   "source": [
    "#Ранжирование интервалов нагрузки по приоритетам (p) и возвращение проранжированного массива\n",
    "def range_df(df):\n",
    "    df['p'] = df[df['k']!= 0]['E'].rank(method='dense',ascending=False)\n",
    "    df['p'].replace(np.nan,s, regex=True, inplace=True)\n",
    "    return df"
   ]
  },
  {
   "cell_type": "code",
   "execution_count": 180,
   "metadata": {},
   "outputs": [],
   "source": [
    "#Поиск приоритетного интервала загрузки и перераспределение\n",
    "def pereraspred(df,m):\n",
    "#дефицит по прачечной\n",
    "    xt=df.loc[m,'X']\n",
    "#датасет с последующими интервалами\n",
    "    dt=df.loc[int(m+1):len(df)]\n",
    "#перераспределение дефицита по прачечной\n",
    "    for l in range(len(dt)):\n",
    "        if  (int(dt.loc[int(m+1+l),'F']) >= int(xt)):\n",
    "            df.at[int(m+1+l),'S']+=int(xt)\n",
    "            df.at[int(m+1+l),'X']+=int(xt)\n",
    "            df.at[int(m),'X']-=int(xt)\n",
    "            deficit(df)\n",
    "            poficit(df)\n",
    "            break\n",
    "    return df"
   ]
  },
  {
   "cell_type": "code",
   "execution_count": 181,
   "metadata": {},
   "outputs": [
    {
     "name": "stdout",
     "output_type": "stream",
     "text": [
      "     t     C   X       G       D   i       E       F    k    p  S\n",
      "0    1  12.1   0  33.814 -19.899   0   0.000  19.899  0.0  7.0  0\n",
      "1    2  12.1   0  29.378 -15.463   1   0.000  15.463  0.0  7.0  0\n",
      "2    3  12.1   0  30.920 -17.005   2   0.000  17.005  0.0  7.0  0\n",
      "3    4  12.1   0  29.299 -15.384   3   0.000  15.384  0.0  7.0  0\n",
      "4    5  12.1   0  29.137 -15.222   4   0.000  15.222  0.0  7.0  0\n",
      "5    6  12.1   0  29.370 -15.455   5   0.000  15.455  0.0  7.0  0\n",
      "6    7  12.1   0  28.889 -14.974   6   0.000  14.974  0.0  7.0  0\n",
      "7    8  27.1   0  31.122   0.043   7   0.043   0.000  0.0  7.0  0\n",
      "8    9  45.1   0  40.728  11.137   8  11.137   0.000  0.0  7.0  0\n",
      "9   10  45.1   0  50.211   1.654   9   1.654   0.000  0.0  7.0  0\n",
      "10  11  63.1   2  68.677   6.188  10   6.188   0.000  1.0  5.0  0\n",
      "11  12  63.1  10  73.582  10.483  11  10.483   0.000  1.0  3.0  0\n",
      "12  13  54.1  10  72.894   0.821  12   0.821   0.000  1.0  6.0  0\n",
      "13  14  54.1   0  72.647 -10.432  13   0.000  10.432  0.0  7.0  0\n",
      "14  15  51.1   0  71.056 -12.291  14   0.000  12.291  0.0  7.0  0\n",
      "15  16  60.1   2  65.181   6.234  15   6.234   0.000  1.0  4.0  0\n",
      "16  17  60.1  10  50.759  29.856  16  29.856   0.000  1.0  1.0  0\n",
      "17  18  45.1  10  35.359  28.006  17  28.006   0.000  1.0  2.0  0\n",
      "18  19  51.1   0  25.180  33.585  18  33.585   0.000  0.0  7.0  0\n",
      "19  20  42.1   0  20.735  27.680  19  27.680   0.000  0.0  7.0  0\n",
      "20  21  36.1   0  16.961  24.554  20  24.554   0.000  0.0  7.0  0\n",
      "21  22  15.1   0  16.110   1.255  21   1.255   0.000  0.0  7.0  0\n",
      "22  23  12.1   0  14.520  -0.605  22   0.000   0.000  0.0  7.0  0\n",
      "23  24  12.1   0  12.378   1.537  23   1.537   0.000  0.0  7.0  0\n",
      "     t     C   X       G       D   i       E       F    k    p   S\n",
      "0    1  12.1   0  33.814 -19.899   0   0.000  19.899  0.0  7.0   0\n",
      "1    2  12.1   0  29.378 -15.463   1   0.000  15.463  0.0  7.0   0\n",
      "2    3  12.1   0  30.920 -17.005   2   0.000  17.005  0.0  7.0   0\n",
      "3    4  12.1   0  29.299 -15.384   3   0.000  15.384  0.0  7.0   0\n",
      "4    5  12.1   0  29.137 -15.222   4   0.000  15.222  0.0  7.0   0\n",
      "5    6  12.1   0  29.370 -15.455   5   0.000  15.455  0.0  7.0   0\n",
      "6    7  12.1   0  28.889 -14.974   6   0.000  14.974  0.0  7.0   0\n",
      "7    8  27.1   0  31.122   0.043   7   0.043   0.000  0.0  7.0   0\n",
      "8    9  45.1   0  40.728  11.137   8  11.137   0.000  0.0  7.0   0\n",
      "9   10  45.1   0  50.211   1.654   9   1.654   0.000  0.0  7.0   0\n",
      "10  11  63.1   0  68.677   3.888  10   3.888   0.000  1.0  5.0   0\n",
      "11  12  63.1   0  73.582  -1.017  11   0.000   1.017  1.0  3.0   0\n",
      "12  13  54.1  10  72.894   0.821  12   0.821   0.000  1.0  6.0   0\n",
      "13  14  54.1  10  72.647   1.068  13   1.068   0.000  0.0  7.0  10\n",
      "14  15  51.1   2  71.056  -9.991  14   0.000   9.991  0.0  7.0   2\n",
      "15  16  60.1   2  65.181   6.234  15   6.234   0.000  1.0  4.0   0\n",
      "16  17  60.1  10  50.759  29.856  16  29.856   0.000  1.0  1.0   0\n",
      "17  18  45.1  10  35.359  28.006  17  28.006   0.000  1.0  2.0   0\n",
      "18  19  51.1   0  25.180  33.585  18  33.585   0.000  0.0  7.0   0\n",
      "19  20  42.1   0  20.735  27.680  19  27.680   0.000  0.0  7.0   0\n",
      "20  21  36.1   0  16.961  24.554  20  24.554   0.000  0.0  7.0   0\n",
      "21  22  15.1   0  16.110   1.255  21   1.255   0.000  0.0  7.0   0\n",
      "22  23  12.1   0  14.520  -0.605  22   0.000   0.000  0.0  7.0   0\n",
      "23  24  12.1   0  12.378   1.537  23   1.537   0.000  0.0  7.0   0\n"
     ]
    }
   ],
   "source": [
    "#преобразование данных в DataFrame\n",
    "df = pd.DataFrame(data)\n",
    "df2 = df.copy(deep=True)\n",
    "deficit(df2)\n",
    "poficit(df2)\n",
    "brosenergy(df2)\n",
    "s=int(df2['k'].astype(bool).sum(axis=0)+1)\n",
    "range_df(df2)\n",
    "df2['S']=0\n",
    "df3=df2.copy(deep=True)\n",
    "print(df2)\n",
    "for pm in range (s-1):\n",
    "    m=int(df2.loc[df2['p']==pm+1,'i'])\n",
    "    f=pereraspred(df2,m)\n",
    "print(f)"
   ]
  },
  {
   "cell_type": "code",
   "execution_count": 182,
   "metadata": {},
   "outputs": [
    {
     "data": {
      "image/png": "[encoded data removed]",
      "text/plain": [
       "<Figure size 800x400 with 1 Axes>"
      ]
     },
     "metadata": {
      "needs_background": "light"
     },
     "output_type": "display_data"
    },
    {
     "name": "stdout",
     "output_type": "stream",
     "text": [
      "Суммарный дефицит до распределения: 183.03299999999993\n",
      "Расход топлива: 45.75824999999998\n",
      "Затраты на топливо (с) 2287.912499999999\n",
      "Выбросы (ecol): 4.575824999999998\n",
      "     t     C   X       G       D   i       E       F    k    p  S\n",
      "0    1  12.1   0  33.814 -19.899   0   0.000  19.899  0.0  7.0  0\n",
      "1    2  12.1   0  29.378 -15.463   1   0.000  15.463  0.0  7.0  0\n",
      "2    3  12.1   0  30.920 -17.005   2   0.000  17.005  0.0  7.0  0\n",
      "3    4  12.1   0  29.299 -15.384   3   0.000  15.384  0.0  7.0  0\n",
      "4    5  12.1   0  29.137 -15.222   4   0.000  15.222  0.0  7.0  0\n",
      "5    6  12.1   0  29.370 -15.455   5   0.000  15.455  0.0  7.0  0\n",
      "6    7  12.1   0  28.889 -14.974   6   0.000  14.974  0.0  7.0  0\n",
      "7    8  27.1   0  31.122   0.043   7   0.043   0.000  0.0  7.0  0\n",
      "8    9  45.1   0  40.728  11.137   8  11.137   0.000  0.0  7.0  0\n",
      "9   10  45.1   0  50.211   1.654   9   1.654   0.000  0.0  7.0  0\n",
      "10  11  63.1   2  68.677   6.188  10   6.188   0.000  1.0  5.0  0\n",
      "11  12  63.1  10  73.582  10.483  11  10.483   0.000  1.0  3.0  0\n",
      "12  13  54.1  10  72.894   0.821  12   0.821   0.000  1.0  6.0  0\n",
      "13  14  54.1   0  72.647 -10.432  13   0.000  10.432  0.0  7.0  0\n",
      "14  15  51.1   0  71.056 -12.291  14   0.000  12.291  0.0  7.0  0\n",
      "15  16  60.1   2  65.181   6.234  15   6.234   0.000  1.0  4.0  0\n",
      "16  17  60.1  10  50.759  29.856  16  29.856   0.000  1.0  1.0  0\n",
      "17  18  45.1  10  35.359  28.006  17  28.006   0.000  1.0  2.0  0\n",
      "18  19  51.1   0  25.180  33.585  18  33.585   0.000  0.0  7.0  0\n",
      "19  20  42.1   0  20.735  27.680  19  27.680   0.000  0.0  7.0  0\n",
      "20  21  36.1   0  16.961  24.554  20  24.554   0.000  0.0  7.0  0\n",
      "21  22  15.1   0  16.110   1.255  21   1.255   0.000  0.0  7.0  0\n",
      "22  23  12.1   0  14.520  -0.605  22   0.000   0.000  0.0  7.0  0\n",
      "23  24  12.1   0  12.378   1.537  23   1.537   0.000  0.0  7.0  0\n",
      "Суммарный дефицит после распределения: 171.31799999999998\n",
      "Расход топлива: 42.829499999999996\n",
      "Затраты на топливо (с) 2141.475\n",
      "Выбросы (ecol): 4.28295\n"
     ]
    },
    {
     "data": {
      "image/png": "[encoded data removed]",
      "text/plain": [
       "<Figure size 800x400 with 1 Axes>"
      ]
     },
     "metadata": {
      "needs_background": "light"
     },
     "output_type": "display_data"
    },
    {
     "name": "stdout",
     "output_type": "stream",
     "text": [
      "     t     C   X       G       D   i       E       F    k    p   S\n",
      "0    1  12.1   0  33.814 -19.899   0   0.000  19.899  0.0  7.0   0\n",
      "1    2  12.1   0  29.378 -15.463   1   0.000  15.463  0.0  7.0   0\n",
      "2    3  12.1   0  30.920 -17.005   2   0.000  17.005  0.0  7.0   0\n",
      "3    4  12.1   0  29.299 -15.384   3   0.000  15.384  0.0  7.0   0\n",
      "4    5  12.1   0  29.137 -15.222   4   0.000  15.222  0.0  7.0   0\n",
      "5    6  12.1   0  29.370 -15.455   5   0.000  15.455  0.0  7.0   0\n",
      "6    7  12.1   0  28.889 -14.974   6   0.000  14.974  0.0  7.0   0\n",
      "7    8  27.1   0  31.122   0.043   7   0.043   0.000  0.0  7.0   0\n",
      "8    9  45.1   0  40.728  11.137   8  11.137   0.000  0.0  7.0   0\n",
      "9   10  45.1   0  50.211   1.654   9   1.654   0.000  0.0  7.0   0\n",
      "10  11  63.1   0  68.677   3.888  10   3.888   0.000  1.0  5.0   0\n",
      "11  12  63.1   0  73.582  -1.017  11   0.000   1.017  1.0  3.0   0\n",
      "12  13  54.1  10  72.894   0.821  12   0.821   0.000  1.0  6.0   0\n",
      "13  14  54.1  10  72.647   1.068  13   1.068   0.000  0.0  7.0  10\n",
      "14  15  51.1   2  71.056  -9.991  14   0.000   9.991  0.0  7.0   2\n",
      "15  16  60.1   2  65.181   6.234  15   6.234   0.000  1.0  4.0   0\n",
      "16  17  60.1  10  50.759  29.856  16  29.856   0.000  1.0  1.0   0\n",
      "17  18  45.1  10  35.359  28.006  17  28.006   0.000  1.0  2.0   0\n",
      "18  19  51.1   0  25.180  33.585  18  33.585   0.000  0.0  7.0   0\n",
      "19  20  42.1   0  20.735  27.680  19  27.680   0.000  0.0  7.0   0\n",
      "20  21  36.1   0  16.961  24.554  20  24.554   0.000  0.0  7.0   0\n",
      "21  22  15.1   0  16.110   1.255  21   1.255   0.000  0.0  7.0   0\n",
      "22  23  12.1   0  14.520  -0.605  22   0.000   0.000  0.0  7.0   0\n",
      "23  24  12.1   0  12.378   1.537  23   1.537   0.000  0.0  7.0   0\n"
     ]
    }
   ],
   "source": [
    "#Представление данных на графиках\n",
    "graph(df)\n",
    "sum_e=df3['E'].sum()\n",
    "print(\"Суммарный дефицит до распределения:\", sum_e)\n",
    "rashod(df3)\n",
    "print(df3)\n",
    "sum_en=fn['E'].sum()\n",
    "print(\"Суммарный дефицит после распределения:\", sum_en)\n",
    "rashod(f)\n",
    "graph(f)\n",
    "print(f)"
   ]
  },
  {
   "cell_type": "code",
   "execution_count": 154,
   "metadata": {},
   "outputs": [],
   "source": [
    "def graph(df):\n",
    "    #подготовка данных\n",
    "    x = df['t'].values.tolist()\n",
    "    y1 = df['C'].values.tolist()\n",
    "    y2 = df['X'].values.tolist()\n",
    "    y3 = df['G'].values.tolist()\n",
    "    #рисование графика\n",
    "    mycolors = ['tab:red', 'tab:blue', 'tab:green', 'tab:orange', 'tab:brown', 'tab:grey', 'tab:pink', 'tab:olive']\n",
    "    fig, ax = plt.subplots(1, 1, figsize=(10,5), dpi= 80)\n",
    "    ax.plot(x, y3, color = 'orange', linewidth = 1, label = 'Выработка ВИЭ(G)')\n",
    "    ax.bar(x, y1,label = 'Кухня (С)')\n",
    "    ax.bar(x, y2, bottom = y1, label = 'Прачечная (Х)')\n",
    "    ax.legend()\n",
    "    plt.show()"
   ]
  }
 ],
 "metadata": {
  "kernelspec": {
   "display_name": "Python 3",
   "language": "python",
   "name": "python3"
  },
  "language_info": {
   "codemirror_mode": {
    "name": "ipython",
    "version": 3
   },
   "file_extension": ".py",
   "mimetype": "text/x-python",
   "name": "python",
   "nbconvert_exporter": "python",
   "pygments_lexer": "ipython3",
   "version": "3.7.4"
  }
 },
 "nbformat": 4,
 "nbformat_minor": 2
}
